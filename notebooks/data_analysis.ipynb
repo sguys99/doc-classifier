{
 "cells": [
  {
   "cell_type": "markdown",
   "id": "fc5e9670",
   "metadata": {},
   "source": [
    "## Data analysis"
   ]
  },
  {
   "cell_type": "markdown",
   "id": "bf08abb4",
   "metadata": {},
   "source": [
    "<img style=\"float: right;\" src=\"../img/flex-logo.png\" width=\"120\"><br>"
   ]
  },
  {
   "cell_type": "markdown",
   "id": "0ae315a2",
   "metadata": {},
   "source": [
    "<div style=\"text-align: right\"> <b>your name</b></div>\n",
    "<div style=\"text-align: right\"> Initial issue : 2025.10.02 </div>\n",
    "<div style=\"text-align: right\"> last update : 2025.10.02 </div>"
   ]
  },
  {
   "cell_type": "markdown",
   "id": "c33149ca",
   "metadata": {},
   "source": [
    "개정 이력  \n",
    "- `2025.10.02` : 노트북 "
   ]
  },
  {
   "cell_type": "code",
   "execution_count": 1,
   "id": "d65f19f2",
   "metadata": {},
   "outputs": [
    {
     "data": {
      "text/plain": [
       "False"
      ]
     },
     "execution_count": 1,
     "metadata": {},
     "output_type": "execute_result"
    }
   ],
   "source": [
    "from dotenv import load_dotenv\n",
    "load_dotenv()"
   ]
  },
  {
   "cell_type": "code",
   "execution_count": 9,
   "id": "aa3a71df",
   "metadata": {},
   "outputs": [],
   "source": [
    "import os\n",
    "from IPython.display import Markdown, display\n",
    "import pandas as pd\n",
    "from flex_ml.utils.path import RAW_DATA_PATH"
   ]
  },
  {
   "cell_type": "code",
   "execution_count": 6,
   "id": "3301c766",
   "metadata": {},
   "outputs": [],
   "source": [
    "data = pd.read_csv(RAW_DATA_PATH / \"people_intelligence_documents.csv\")"
   ]
  },
  {
   "cell_type": "code",
   "execution_count": 7,
   "id": "b2a83d7a",
   "metadata": {},
   "outputs": [
    {
     "data": {
      "text/html": [
       "<div>\n",
       "<style scoped>\n",
       "    .dataframe tbody tr th:only-of-type {\n",
       "        vertical-align: middle;\n",
       "    }\n",
       "\n",
       "    .dataframe tbody tr th {\n",
       "        vertical-align: top;\n",
       "    }\n",
       "\n",
       "    .dataframe thead th {\n",
       "        text-align: right;\n",
       "    }\n",
       "</style>\n",
       "<table border=\"1\" class=\"dataframe\">\n",
       "  <thead>\n",
       "    <tr style=\"text-align: right;\">\n",
       "      <th></th>\n",
       "      <th>page_id</th>\n",
       "      <th>categoryL1</th>\n",
       "      <th>categoryL2</th>\n",
       "      <th>title</th>\n",
       "      <th>page_content</th>\n",
       "    </tr>\n",
       "  </thead>\n",
       "  <tbody>\n",
       "    <tr>\n",
       "      <th>0</th>\n",
       "      <td>ff49798f-4c61-4c8a-a79a-962c4da13c97</td>\n",
       "      <td>지원 제도</td>\n",
       "      <td>업무 지원</td>\n",
       "      <td>[IT] Device Trust (인증, 등록) 가이드</td>\n",
       "      <td>---\\n\\n💡 flex 팀 단말 보안 강화를 목적으로 \\n**2024년 10월 1...</td>\n",
       "    </tr>\n",
       "    <tr>\n",
       "      <th>1</th>\n",
       "      <td>fe64ba80-6af6-4dbb-87a3-3844b7cf2537</td>\n",
       "      <td>조직원칙 및 리더십</td>\n",
       "      <td>리더십</td>\n",
       "      <td>동기부여 1 on 1 미팅 Tips</td>\n",
       "      <td># 리더십의 출발\\n\\n플렉스팀의 리드는 동료를 인정하며 충분히 이해하고, 코칭하는...</td>\n",
       "    </tr>\n",
       "    <tr>\n",
       "      <th>2</th>\n",
       "      <td>fc6dee10-649d-4b2f-9e5c-9fb2b8c2c5fe</td>\n",
       "      <td>지원 제도</td>\n",
       "      <td>업무 지원</td>\n",
       "      <td>퀵서비스 사용 안내</td>\n",
       "      <td>[//]: # (column_list is not supported)\\n\\n\\t[/...</td>\n",
       "    </tr>\n",
       "    <tr>\n",
       "      <th>3</th>\n",
       "      <td>f33cc45e-3467-43dd-9dd2-4a64770385fc</td>\n",
       "      <td>구성원 여정</td>\n",
       "      <td>채용</td>\n",
       "      <td>리크루팅 식사 비용 지원</td>\n",
       "      <td>[//]: # (column_list is not supported)\\n\\n\\t[/...</td>\n",
       "    </tr>\n",
       "    <tr>\n",
       "      <th>4</th>\n",
       "      <td>e4207a04-b5cd-4353-8705-91e797846587</td>\n",
       "      <td>지원 제도</td>\n",
       "      <td>업무 지원</td>\n",
       "      <td>사원증(카드, 모바일) 사용 안내</td>\n",
       "      <td>[//]: # (column_list is not supported)\\n\\n\\t[/...</td>\n",
       "    </tr>\n",
       "  </tbody>\n",
       "</table>\n",
       "</div>"
      ],
      "text/plain": [
       "                                page_id  categoryL1 categoryL2  \\\n",
       "0  ff49798f-4c61-4c8a-a79a-962c4da13c97       지원 제도      업무 지원   \n",
       "1  fe64ba80-6af6-4dbb-87a3-3844b7cf2537  조직원칙 및 리더십        리더십   \n",
       "2  fc6dee10-649d-4b2f-9e5c-9fb2b8c2c5fe       지원 제도      업무 지원   \n",
       "3  f33cc45e-3467-43dd-9dd2-4a64770385fc      구성원 여정         채용   \n",
       "4  e4207a04-b5cd-4353-8705-91e797846587       지원 제도      업무 지원   \n",
       "\n",
       "                            title  \\\n",
       "0  [IT] Device Trust (인증, 등록) 가이드   \n",
       "1             동기부여 1 on 1 미팅 Tips   \n",
       "2                      퀵서비스 사용 안내   \n",
       "3                   리크루팅 식사 비용 지원   \n",
       "4              사원증(카드, 모바일) 사용 안내   \n",
       "\n",
       "                                        page_content  \n",
       "0  ---\\n\\n💡 flex 팀 단말 보안 강화를 목적으로 \\n**2024년 10월 1...  \n",
       "1  # 리더십의 출발\\n\\n플렉스팀의 리드는 동료를 인정하며 충분히 이해하고, 코칭하는...  \n",
       "2  [//]: # (column_list is not supported)\\n\\n\\t[/...  \n",
       "3  [//]: # (column_list is not supported)\\n\\n\\t[/...  \n",
       "4  [//]: # (column_list is not supported)\\n\\n\\t[/...  "
      ]
     },
     "execution_count": 7,
     "metadata": {},
     "output_type": "execute_result"
    }
   ],
   "source": [
    "data.head()"
   ]
  },
  {
   "cell_type": "code",
   "execution_count": 11,
   "id": "5741861a",
   "metadata": {},
   "outputs": [
    {
     "data": {
      "text/markdown": [
       "[//]: # (column_list is not supported)\n",
       "\n",
       "\t[//]: # (column is not supported)\n",
       "\n",
       "\t\t**🗒️업데이트: 2024/07/14**\n",
       "\n",
       "\t[//]: # (column is not supported)\n",
       "\n",
       "\t\t**🙋‍♂️ 담당자: People**\n",
       "\n",
       "---\n",
       "\n",
       "## 리크루팅 식사 비용 지원\n",
       "\n",
       "\t- 리크루팅 (채용 지원) 목적으로 외부 후보자(동료,지인 등)와 식사를 하실 경우 `1인당 3만원까지의 `비용을 지원하고 있습니다.\n",
       "\n",
       "## 신청 방법\n",
       "\n",
       "\t- 워크플로우를 통해 작성을 해주세요.\n",
       "\n",
       "\t- 당일 식사 전 반드시, #division-people_and_culture 채널에 공유를 부탁드려요!\n",
       "\n",
       "\t\t- ex) 오늘 OO포지션 1명과 리크루팅 목적의 식사 비용 사용 예정입니다. \n",
       "\n",
       "\t- 맛있는 식사와 팀에 대한 셀링을 진행해주신 후 제공된 개인 법인카드로 결제하시면 됩니다.\n",
       "\n",
       "\t\t- flex앱에서 `리크루팅 식대`로 선택해주시면 됩니다.\n",
       "\n",
       "## 주의 사항\n",
       "\n",
       "\t- 식사 비용은 참여자 1인당 30,000원까지 지원됩니다.\n",
       "\n",
       "\t- 반드시 워크플로우 작성 및 `식사 당일 #division-people_and_culture 채널에 공유 후 사용`해주세요.\n",
       "\n",
       "\t- 제공된 개인 법인 카드로 결제 부탁드립니다.\n",
       "\n",
       "\t- 여러명과 식사하는 경우 복수로 적어주셔도 괜찮습니다.\n",
       "\n",
       "\t<br/>\n",
       "\n",
       "<br/>\n",
       "\n",
       "---\n",
       "\n",
       "### ■ FAQ \n",
       "\n",
       "<br/>\n",
       "\n"
      ],
      "text/plain": [
       "<IPython.core.display.Markdown object>"
      ]
     },
     "metadata": {},
     "output_type": "display_data"
    }
   ],
   "source": [
    "display(Markdown(data.loc[3, \"page_content\"]))"
   ]
  },
  {
   "cell_type": "code",
   "execution_count": null,
   "id": "d1defec8",
   "metadata": {},
   "outputs": [],
   "source": []
  }
 ],
 "metadata": {
  "kernelspec": {
   "display_name": ".venv",
   "language": "python",
   "name": "python3"
  },
  "language_info": {
   "codemirror_mode": {
    "name": "ipython",
    "version": 3
   },
   "file_extension": ".py",
   "mimetype": "text/x-python",
   "name": "python",
   "nbconvert_exporter": "python",
   "pygments_lexer": "ipython3",
   "version": "3.12.9"
  }
 },
 "nbformat": 4,
 "nbformat_minor": 5
}
